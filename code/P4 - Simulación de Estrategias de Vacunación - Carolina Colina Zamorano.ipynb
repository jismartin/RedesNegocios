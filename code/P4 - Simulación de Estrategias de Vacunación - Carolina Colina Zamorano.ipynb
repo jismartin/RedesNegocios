{
 "cells": [
  {
   "cell_type": "markdown",
   "metadata": {},
   "source": [
    "# PRÁCTICA 4 - SIMULACIÓN DE ESTRATEGIAS DE VACUNACIÓN"
   ]
  },
  {
   "cell_type": "markdown",
   "metadata": {},
   "source": [
    "### Se quiere reducir la transmisión de una enfermedad mediante vacunación. Suponer que cuando un individuo se vacuna, se impide cualquier contagio a través de sus relaciones directas. Así, definimos el número de relaciones inmunizadas del nodo i como el número de vecinos de i"
   ]
  },
  {
   "cell_type": "markdown",
   "metadata": {},
   "source": [
    "### Suponer que se dispone de una sola vacuna, con la que se pretende maximizar el número de relaciones inmunizadas"
   ]
  },
  {
   "cell_type": "code",
   "execution_count": 1,
   "metadata": {},
   "outputs": [
    {
     "data": {
      "text/plain": [
       "[1, 2, 3, 4, 5, 6, 7, 8, 9]"
      ]
     },
     "execution_count": 1,
     "metadata": {},
     "output_type": "execute_result"
    }
   ],
   "source": [
    "import networkx as nx\n",
    "import numpy as np\n",
    "G = nx.Graph()\n",
    "G.clear()\n",
    "G.add_nodes_from(range(1,10))\n",
    "list(G.nodes())"
   ]
  },
  {
   "cell_type": "code",
   "execution_count": 2,
   "metadata": {
    "collapsed": true
   },
   "outputs": [],
   "source": [
    "G.add_edges_from([(1,2),(1,3),(1,4),(1,5),(1,6),(2,3),(2,8),(2,9),(3,7)])"
   ]
  },
  {
   "cell_type": "code",
   "execution_count": 3,
   "metadata": {},
   "outputs": [
    {
     "data": {
      "text/plain": [
       "[(1, 2), (1, 3), (1, 4), (1, 5), (1, 6), (2, 3), (2, 8), (2, 9), (3, 7)]"
      ]
     },
     "execution_count": 3,
     "metadata": {},
     "output_type": "execute_result"
    }
   ],
   "source": [
    "list(G.edges())"
   ]
  },
  {
   "cell_type": "markdown",
   "metadata": {},
   "source": [
    "### Visualización de la red"
   ]
  },
  {
   "cell_type": "code",
   "execution_count": 4,
   "metadata": {
    "collapsed": true
   },
   "outputs": [],
   "source": [
    "%matplotlib inline"
   ]
  },
  {
   "cell_type": "code",
   "execution_count": 5,
   "metadata": {},
   "outputs": [
    {
     "data": {
      "image/png": "[encoded data removed]",
      "text/plain": [
       "<matplotlib.figure.Figure at 0x8dedb00>"
      ]
     },
     "metadata": {},
     "output_type": "display_data"
    }
   ],
   "source": [
    "#pos=nx.layout.kamada_kawai_layout(G)\n",
    "nx.draw(G,with_labels=True)"
   ]
  },
  {
   "cell_type": "markdown",
   "metadata": {},
   "source": [
    "### Suponer que se dispone de una sola vacuna, con la que se pretende maximizar el número de relaciones inmunizadas\n",
    "### Si se conoce a priori la red de contactos ¿a qué persona escogería? ¿por qué?"
   ]
  },
  {
   "cell_type": "markdown",
   "metadata": {},
   "source": [
    "#### Escogería a la persona correspondiente al nodo con mayor grado, así maximizamos el número de relaciones inmunizadas."
   ]
  },
  {
   "cell_type": "markdown",
   "metadata": {},
   "source": [
    "### Suponer que desconoce la red de contactos. Sigue una estrategia de vacunación que llama aleatoria y que consiste en escoger un individuo al azar y vacunarlo. Programe un pequeño script en python que simule esta estrategia un número de T veces en la red de contactos propuesta y calcule el número de relaciones inmunizadas esperado"
   ]
  },
  {
   "cell_type": "code",
   "execution_count": 6,
   "metadata": {
    "collapsed": true
   },
   "outputs": [],
   "source": [
    "import random"
   ]
  },
  {
   "cell_type": "code",
   "execution_count": 19,
   "metadata": {},
   "outputs": [
    {
     "name": "stdout",
     "output_type": "stream",
     "text": [
      "Media de Inmunizados:  2.1666666666666665\n"
     ]
    }
   ],
   "source": [
    "T = 1\n",
    "inmunizados = 0\n",
    "while T < 6:\n",
    "    # Elijo aleatoriamente un individuo para vacunar\n",
    "    individuoVacunado = random.randint(1, 9)\n",
    "    # Incremento los individuos inmunizados\n",
    "    inmunizados += G.degree(individuoVacunado)\n",
    "    # Incremento el número de veces (T)\n",
    "    T = T + 1\n",
    "    \n",
    "media = inmunizados / T\n",
    "print ('Media de Inmunizados: ', media)"
   ]
  },
  {
   "cell_type": "markdown",
   "metadata": {
    "collapsed": true
   },
   "source": [
    "### Suponer que al igual que antes desconoce la red de contactos. Ahora sigue una estrategia de vacunación que llama aleatoria indirecta y que consiste en escoger a un individuo al azar y después vacunar a uno de sus vecinos también escogido aleatoriamente. Programe un pequeño script en python que simule esta estrategia un número de T veces en la red de contactos propuesta y calcule el número de relaciones inmunizadas esperado"
   ]
  },
  {
   "cell_type": "code",
   "execution_count": 21,
   "metadata": {},
   "outputs": [
    {
     "name": "stdout",
     "output_type": "stream",
     "text": [
      "PRUEBA: 1\n",
      "Individuo Elegido:  6\n",
      "Vecino Inmunizado:  1\n",
      "Individuos Inmunizados: [2, 3, 4, 5, 6]\n",
      "Número de Inmunizados: 5\n",
      "\n",
      "PRUEBA: 2\n",
      "Individuo Elegido:  4\n",
      "Vecino Inmunizado:  1\n",
      "Individuos Inmunizados: [2, 3, 4, 5, 6]\n",
      "Número de Inmunizados: 5\n",
      "\n",
      "PRUEBA: 3\n",
      "Individuo Elegido:  7\n",
      "Vecino Inmunizado:  3\n",
      "Individuos Inmunizados: [1, 2, 7]\n",
      "Número de Inmunizados: 3\n",
      "\n",
      "PRUEBA: 4\n",
      "Individuo Elegido:  1\n",
      "Vecino Inmunizado:  2\n",
      "Individuos Inmunizados: [1, 3, 8, 9]\n",
      "Número de Inmunizados: 4\n",
      "\n",
      "PRUEBA: 5\n",
      "Individuo Elegido:  6\n",
      "Vecino Inmunizado:  1\n",
      "Individuos Inmunizados: [2, 3, 4, 5, 6]\n",
      "Número de Inmunizados: 5\n",
      "\n",
      "Media de Inmunizados:  3.6666666666666665\n"
     ]
    }
   ],
   "source": [
    "T = 1\n",
    "suma = 0\n",
    "while T < 6:\n",
    "    print('PRUEBA:',T)\n",
    "    individuoElegido = random.randint(1, 9)\n",
    "    print('Individuo Elegido: ',individuoElegido)\n",
    "    lista = list(G.neighbors(individuoElegido))\n",
    "    vecinoInmunizado = random.choice(lista)\n",
    "    print('Vecino Inmunizado: ',vecinoInmunizado)\n",
    "    \n",
    "    lista2 = list(G.neighbors(vecinoInmunizado))\n",
    "    print('Individuos Inmunizados:',lista2)\n",
    "    print('Número de Inmunizados:',len(lista2))\n",
    "    print()\n",
    "    suma = suma + len(lista2)\n",
    "    T = T + 1\n",
    "    \n",
    "media = suma / T\n",
    "print ('Media de Inmunizados: ', media)"
   ]
  },
  {
   "cell_type": "markdown",
   "metadata": {},
   "source": [
    "### ¿Cuál de las dos estrategias te parece mejor? ¿Por qué?"
   ]
  },
  {
   "cell_type": "markdown",
   "metadata": {},
   "source": [
    "#### Según los resultados obtenidos, con la estrategia de vacunación indirecta se obtienen más inmunizados con el mismo número de veces"
   ]
  },
  {
   "cell_type": "markdown",
   "metadata": {},
   "source": [
    "### Implemente una función en python que dada una red (por ejemplo la red de contactos propuesta inicialmente) calcule el valor exacto del número de relaciones inmunizadas esperadas para la vacunación aleatoria. Piense en la relación que existe entre la distribución del grado de los nodos y su valor medio con el número de relaciones inmunizadas esperado de la estrategia de vacunación aleatoria. Compare este valor con el obtenido mediante simulación."
   ]
  },
  {
   "cell_type": "code",
   "execution_count": 23,
   "metadata": {
    "collapsed": true
   },
   "outputs": [],
   "source": [
    "def inmunizadosAleatorios():\n",
    "    individuoVacunado = random.randint(1, 9)\n",
    "    print('Individuo Vacunado: ',individuoVacunado)\n",
    "    lista = list(G.neighbors(individuoVacunado))\n",
    "    print('Individuos Inmunizados:',lista)\n",
    "    print('Número de Inmunizados:',len(lista))\n",
    "    print()"
   ]
  },
  {
   "cell_type": "code",
   "execution_count": 26,
   "metadata": {},
   "outputs": [
    {
     "name": "stdout",
     "output_type": "stream",
     "text": [
      "Individuo Vacunado:  2\n",
      "Individuos Inmunizados: [1, 3, 8, 9]\n",
      "Número de Inmunizados: 4\n",
      "\n"
     ]
    }
   ],
   "source": [
    "inmunizadosAleatorios()"
   ]
  },
  {
   "cell_type": "markdown",
   "metadata": {
    "collapsed": true
   },
   "source": [
    "### Implemente una función en python que dada una red (por ejemplo la red de contactos propuesta inicialmente) calcule el valor exacto del número de relaciones inmunizadas esperadas para la vacunación aleatoria indirecta. Compare este valor con el obtenido mediante simulación."
   ]
  },
  {
   "cell_type": "code",
   "execution_count": 27,
   "metadata": {
    "collapsed": true
   },
   "outputs": [],
   "source": [
    "def inmunizadosAlestoriosIndirectos():\n",
    "    individuoElegido = random.randint(1, 9)\n",
    "    print('Individuo Elegido: ',individuoElegido)\n",
    "    lista = list(G.neighbors(individuoElegido))\n",
    "    vecinoInmunizado = random.choice(lista)\n",
    "    print('Vecino Inmunizado: ',vecinoInmunizado)\n",
    "    \n",
    "    lista2 = list(G.neighbors(vecinoInmunizado))\n",
    "    print('Individuos Inmunizados:',lista2)\n",
    "    print('Número de Inmunizados:',len(lista2))\n",
    "    print()"
   ]
  },
  {
   "cell_type": "code",
   "execution_count": 28,
   "metadata": {},
   "outputs": [
    {
     "name": "stdout",
     "output_type": "stream",
     "text": [
      "Individuo Elegido:  4\n",
      "Vecino Inmunizado:  1\n",
      "Individuos Inmunizados: [2, 3, 4, 5, 6]\n",
      "Número de Inmunizados: 5\n",
      "\n"
     ]
    }
   ],
   "source": [
    "inmunizadosAlestoriosIndirectos()"
   ]
  }
 ],
 "metadata": {
  "kernelspec": {
   "display_name": "Python 3",
   "language": "python",
   "name": "python3"
  },
  "language_info": {
   "codemirror_mode": {
    "name": "ipython",
    "version": 3
   },
   "file_extension": ".py",
   "mimetype": "text/x-python",
   "name": "python",
   "nbconvert_exporter": "python",
   "pygments_lexer": "ipython3",
   "version": "3.6.3"
  }
 },
 "nbformat": 4,
 "nbformat_minor": 2
}
