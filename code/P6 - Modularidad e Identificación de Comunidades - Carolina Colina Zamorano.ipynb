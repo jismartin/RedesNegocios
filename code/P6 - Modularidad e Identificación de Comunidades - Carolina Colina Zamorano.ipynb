{
 "cells": [
  {
   "cell_type": "markdown",
   "metadata": {},
   "source": [
    "# PRÁCTICA 6 - MODULARIDAD E IDENTIFICACIÓN DE COMUNIDADES"
   ]
  },
  {
   "cell_type": "markdown",
   "metadata": {},
   "source": [
    "### Implementar en una función para el cálculo de la modularidad de una red, y posteriormente implementar el algoritmo de Girvan-Newman para la partición de una red mediante la eliminación sucesiva de los enlaces de mayor betweenness"
   ]
  },
  {
   "cell_type": "markdown",
   "metadata": {},
   "source": [
    "### 1. MODULARIDAD"
   ]
  },
  {
   "cell_type": "markdown",
   "metadata": {},
   "source": [
    "#### 1.1 Implementar una función que calcula la modularidad de una red no dirigida para una partición de los nodos propuesta. La función tendrá como argumentos de entrada:\n",
    "  #### Un objeto Graph (Networkx)\n",
    "  #### Un diccionario con la partición, e.g. { ‘node1’: c1, ‘node2’:c2, …}\n",
    "  #### Y la salida corresponderá al valor de modularidad (ver fórmula de clase):"
   ]
  },
  {
   "cell_type": "code",
   "execution_count": 2,
   "metadata": {
    "collapsed": true
   },
   "outputs": [],
   "source": [
    "import networkx as nx\n",
    "import numpy as np\n",
    "import matplotlib.pyplot as plt\n",
    "%matplotlib inline"
   ]
  },
  {
   "cell_type": "code",
   "execution_count": 3,
   "metadata": {
    "collapsed": true
   },
   "outputs": [],
   "source": [
    "G = nx.Graph()\n",
    "G.clear()"
   ]
  },
  {
   "cell_type": "code",
   "execution_count": 16,
   "metadata": {
    "collapsed": true
   },
   "outputs": [],
   "source": [
    "def FuncionModularidad(G, diccParticion):\n",
    "    \n",
    "    modularidad = 0\n",
    "    \n",
    "    for particion in set(diccParticion.values()):\n",
    "        nodosParticion = [key for key, value in diccParticion.items() if value == particion]\n",
    "        enlacesParticion = [(e[0], e[1]) for e in G.edges if e[0] in nodosParticion and e[1] in nodosParticion]\n",
    "        \n",
    "        # Calculo Eii, es decir el primer elemento del sumatorio.\n",
    "        # Fracción de enlaces con ambor vértices en la misma comunidad.\n",
    "        Eii = len(enlacesParticion)/G.number_of_edges()\n",
    "       \n",
    "        # Calculo los puntos de unión que hay\n",
    "        puntos = 2 * G.number_of_edges()\n",
    "        puntosParticion = 0\n",
    "        \n",
    "        # Calculamos los extremos de los vértices que están unidos a la comunidad\n",
    "        # Necesario para calcular Ai2 que haremos a continuación\n",
    "        for u, v in G.edges:\n",
    "            if u in nodosParticion:\n",
    "                puntosParticion += 1\n",
    "            if v in nodosParticion:\n",
    "                puntosParticion += 1    \n",
    "       \n",
    "        # Calculo ai2, es decir, el segundo elemento del sumatorio\n",
    "        # Fracción de extremos de los vértices que están unidos a vértices en la comunidad i.\n",
    "        Ai2 = (puntosParticion/puntos)\n",
    "        Ai2 = Ai2 * Ai2\n",
    "        \n",
    "        # Resto el primer elemento menos el segundo y lo acumulo el modularidad porque es un sumatorio\n",
    "        modularidad = modularidad + (Eii - Ai2)\n",
    "        \n",
    "    return modularidad  "
   ]
  },
  {
   "cell_type": "markdown",
   "metadata": {},
   "source": [
    "#### 1.2 Comprobar el valor de la modularidad para el ejemplo de WIKIPEDIA"
   ]
  },
  {
   "cell_type": "code",
   "execution_count": 25,
   "metadata": {},
   "outputs": [
    {
     "name": "stdout",
     "output_type": "stream",
     "text": [
      "MODULARIDAD DE LA PARTICIÓN DE COLORES\n",
      "0.4895833333333332\n"
     ]
    }
   ],
   "source": [
    "# EJEMPLO DE WIKIPEDIA\n",
    "GrafoWikipedia=nx.Graph()\n",
    "GrafoWikipedia.add_edges_from([(1,2),(1,3),(2,3),(2,4),(2,4),(4,5),(5,6),(5,7),(6,7),(4,8),(8,9),(8,10),(9,10)])\n",
    "diccColores={1:'rojo',2:'rojo',3:'rojo',4:'rojo',5:'verde',6:'verde',7:'verde',8:'azul',9:'azul',10:'azul'}\n",
    "\n",
    "print(\"MODULARIDAD DE LA PARTICIÓN DE COLORES\")\n",
    "print(FuncionModularidad(GrafoWikipedia, diccColores))"
   ]
  },
  {
   "cell_type": "markdown",
   "metadata": {},
   "source": [
    "#### 1.2 Comprobar el valor de la modularidad para el ejemplo de CLASE"
   ]
  },
  {
   "cell_type": "code",
   "execution_count": 27,
   "metadata": {},
   "outputs": [
    {
     "name": "stdout",
     "output_type": "stream",
     "text": [
      "MODULARIDAD CORRESPONDIENTE A TODA LA RED\n",
      "0.0\n",
      "\n",
      "MODULARIDAD DE LA PARTICIÓN CORRESPONDIENTE A CADA NODO\n",
      "-0.12721893491124261\n",
      "\n",
      "MODULARIDAD DE LA PARTICIÓN DE COLORES\n",
      "0.42307692307692313\n"
     ]
    }
   ],
   "source": [
    "# EJEMPLO DE CLASE\n",
    "GrafoClase=nx.Graph()\n",
    "GrafoClase.add_edges_from([(1,2),(1,3),(1,4),(2,3),(2,4),(3,4),(4,5),(5,6),(5,7),(5,8),(6,7),(6,8),(7,8)])\n",
    "diccColores={1:'azul',2:'azul',3:'azul',4:'azul',5:'rojo',6:'rojo',7:'rojo',8:'rojo'}\n",
    "diccNodos={1:'c1',2:'c2',3:'c3',4:'c4',5:'c5',6:'c6',7:'c7',8:'c8'}\n",
    "diccParticion={1:'azul',2:'azul',3:'azul',4:'azul',5:'azul',6:'azul',7:'azul',8:'azul'}\n",
    "\n",
    "print(\"MODULARIDAD CORRESPONDIENTE A TODA LA RED\")\n",
    "print(FuncionModularidad(GrafoClase, diccParticion))\n",
    "print()\n",
    "print(\"MODULARIDAD DE LA PARTICIÓN CORRESPONDIENTE A CADA NODO\")\n",
    "print(FuncionModularidad(GrafoClase, diccNodos))\n",
    "print()\n",
    "print(\"MODULARIDAD DE LA PARTICIÓN DE COLORES\")\n",
    "print(FuncionModularidad(GrafoClase, diccColores))"
   ]
  }
 ],
 "metadata": {
  "kernelspec": {
   "display_name": "Python 3",
   "language": "python",
   "name": "python3"
  },
  "language_info": {
   "codemirror_mode": {
    "name": "ipython",
    "version": 3
   },
   "file_extension": ".py",
   "mimetype": "text/x-python",
   "name": "python",
   "nbconvert_exporter": "python",
   "pygments_lexer": "ipython3",
   "version": "3.6.3"
  }
 },
 "nbformat": 4,
 "nbformat_minor": 2
}
