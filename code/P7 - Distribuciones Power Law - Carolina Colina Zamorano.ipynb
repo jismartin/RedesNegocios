{
 "cells": [
  {
   "cell_type": "markdown",
   "metadata": {},
   "source": [
    "# PRÁCTICA 7 - DISTRIBUCIONES POWER LAW"
   ]
  },
  {
   "cell_type": "markdown",
   "metadata": {},
   "source": [
    "## Dadas las redes de la figura, ¿cuál de ellas presenta una propiedad scale-free?"
   ]
  },
  {
   "cell_type": "markdown",
   "metadata": {},
   "source": [
    "#### La tercera imagen corresponde a una distribución de grado que sigue la power law y, por lo tanto, la red asociado presenta la propiedad scale-free. En ella observamos la distribución de probabilidad de poisson en verde, correspondiente a redes aleatorias y en morado la recta de ajuste corresponiente a la distribución de probabilidad de la power law"
   ]
  },
  {
   "cell_type": "markdown",
   "metadata": {},
   "source": [
    "## De los siguientes mecanismos ¿cuál de ellos podría generar propiedad scale-free con más probabilidad?\n",
    "## 1. Un usuario crea una página web y añade un enlace a la página de un amigo. \n",
    "## 2. Un usuario crea una página web y añade un enlace a la página que le proporciona el primer resultado de una búsqueda en Googl\n"
   ]
  },
  {
   "cell_type": "markdown",
   "metadata": {},
   "source": [
    "#### El mecanismo b) conduce a una red en la que existirán hubs que presentaan un grado mayor que el de la mayoría de nodos con mayor probabilidad."
   ]
  },
  {
   "cell_type": "markdown",
   "metadata": {},
   "source": [
    "## 3 Estudio de la distribución de grado de una red"
   ]
  },
  {
   "cell_type": "code",
   "execution_count": 10,
   "metadata": {
    "collapsed": true
   },
   "outputs": [],
   "source": [
    "import numpy as np\n",
    "import networkx as nx\n",
    "import matplotlib.pyplot as plt\n",
    "%matplotlib inline"
   ]
  },
  {
   "cell_type": "code",
   "execution_count": 11,
   "metadata": {
    "collapsed": true
   },
   "outputs": [],
   "source": [
    "# Hacemos la carga de la los routers\n",
    "routers=nx.read_gexf('internet_routers-22july06-2.gexf')"
   ]
  },
  {
   "cell_type": "markdown",
   "metadata": {},
   "source": [
    "#### Calcule las siguientes estadísticas de la red:\n",
    "    #### Número de nodos\n",
    "    #### Número de enlaces\n",
    "    #### Grado medio\n",
    "    #### Grado máximo\n",
    "    #### Grado mínimo"
   ]
  },
  {
   "cell_type": "code",
   "execution_count": 12,
   "metadata": {},
   "outputs": [
    {
     "name": "stdout",
     "output_type": "stream",
     "text": [
      "Número de nodos: 22963\n",
      "Número de enlaces: 48436\n",
      "Grado Máximo: 2390\n",
      "Grado Mínimmo: 1\n",
      "Grado Medio: 4.218612550624918\n"
     ]
    }
   ],
   "source": [
    "# Número de nodos:\n",
    "print(\"Número de nodos:\",routers.number_of_nodes())\n",
    "\n",
    "# Número de enlaces:\n",
    "print(\"Número de enlaces:\",routers.number_of_edges())\n",
    "\n",
    "# Grado medio, mínimo y máximo:\n",
    "suma = 0\n",
    "minimo = 999\n",
    "maximo = 0\n",
    "for i,j in routers.degree():\n",
    "    suma = suma + j\n",
    "    if j > maximo:\n",
    "        maximo = j\n",
    "    if j < minimo:\n",
    "        minimo = j\n",
    "medio = suma/routers.number_of_nodes()\n",
    "\n",
    "print (\"Grado Máximo:\",maximo)\n",
    "print (\"Grado Mínimmo:\",minimo)\n",
    "print (\"Grado Medio:\",medio)"
   ]
  },
  {
   "cell_type": "markdown",
   "metadata": {},
   "source": [
    "## 3.1Histograma"
   ]
  },
  {
   "cell_type": "code",
   "execution_count": 14,
   "metadata": {},
   "outputs": [
    {
     "data": {
      "text/plain": [
       "(array([  2.29280000e+04,   1.80000000e+01,   9.00000000e+00,\n",
       "          2.00000000e+00,   0.00000000e+00,   3.00000000e+00,\n",
       "          0.00000000e+00,   1.00000000e+00,   1.00000000e+00,\n",
       "          1.00000000e+00]),\n",
       " array([  1.00000000e+00,   2.39900000e+02,   4.78800000e+02,\n",
       "          7.17700000e+02,   9.56600000e+02,   1.19550000e+03,\n",
       "          1.43440000e+03,   1.67330000e+03,   1.91220000e+03,\n",
       "          2.15110000e+03,   2.39000000e+03]),\n",
       " <a list of 10 Patch objects>)"
      ]
     },
     "execution_count": 14,
     "metadata": {},
     "output_type": "execute_result"
    },
    {
     "data": {
      "image/png": "[encoded data removed]",
      "text/plain": [
       "<matplotlib.figure.Figure at 0x9acf048>"
      ]
     },
     "metadata": {},
     "output_type": "display_data"
    }
   ],
   "source": [
    "routersDegree=[(routers.degree(e)) for e in routers.nodes]\n",
    "plt.hist(routersDegree)"
   ]
  },
  {
   "cell_type": "code",
   "execution_count": 16,
   "metadata": {},
   "outputs": [
    {
     "data": {
      "text/plain": [
       "(array([  2.29280000e+04,   1.80000000e+01,   9.00000000e+00,\n",
       "          2.00000000e+00,   0.00000000e+00,   3.00000000e+00,\n",
       "          0.00000000e+00,   1.00000000e+00,   1.00000000e+00,\n",
       "          1.00000000e+00]),\n",
       " array([  1.00000000e+00,   2.39900000e+02,   4.78800000e+02,\n",
       "          7.17700000e+02,   9.56600000e+02,   1.19550000e+03,\n",
       "          1.43440000e+03,   1.67330000e+03,   1.91220000e+03,\n",
       "          2.15110000e+03,   2.39000000e+03]),\n",
       " <a list of 10 Patch objects>)"
      ]
     },
     "execution_count": 16,
     "metadata": {},
     "output_type": "execute_result"
    },
    {
     "data": {
      "image/png": "[encoded data removed]",
      "text/plain": [
       "<matplotlib.figure.Figure at 0x11760e48>"
      ]
     },
     "metadata": {},
     "output_type": "display_data"
    }
   ],
   "source": [
    "#visualizacion escala logaritmica\n",
    "plt.xscale('log')\n",
    "plt.yscale('log')\n",
    "plt.hist(routersDegree)"
   ]
  },
  {
   "cell_type": "markdown",
   "metadata": {},
   "source": [
    "## 3.3 Histograma con clase variable logaritmica"
   ]
  },
  {
   "cell_type": "code",
   "execution_count": 22,
   "metadata": {},
   "outputs": [
    {
     "name": "stdout",
     "output_type": "stream",
     "text": [
      "[4096, 4096, 4096, 4096, 4096, 4096, 4096, 4096, 4096, 4096, 4096]\n",
      "[0 0 0 0 0 0 0 0 0 0]\n"
     ]
    }
   ],
   "source": [
    "rango = []\n",
    "x = 1\n",
    "while pow(2,x) < maximo:\n",
    "    rango.append(pow(2,i))\n",
    "    x = x + 1\n",
    "print(rango)\n",
    "frecNodo=np.histogram(routersDegree, rango)\n",
    "print(frecNodo[0])"
   ]
  }
 ],
 "metadata": {
  "kernelspec": {
   "display_name": "Python 3",
   "language": "python",
   "name": "python3"
  },
  "language_info": {
   "codemirror_mode": {
    "name": "ipython",
    "version": 3
   },
   "file_extension": ".py",
   "mimetype": "text/x-python",
   "name": "python",
   "nbconvert_exporter": "python",
   "pygments_lexer": "ipython3",
   "version": "3.6.3"
  }
 },
 "nbformat": 4,
 "nbformat_minor": 2
}
