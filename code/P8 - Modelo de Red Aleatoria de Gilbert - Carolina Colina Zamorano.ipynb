{
 "cells": [
  {
   "cell_type": "markdown",
   "metadata": {},
   "source": [
    "# PRÁCTICA 8 - MODELO DE RED ALEATORIA DE GILBERT"
   ]
  },
  {
   "cell_type": "code",
   "execution_count": 1,
   "metadata": {
    "collapsed": true
   },
   "outputs": [],
   "source": [
    "import networkx as nx\n",
    "import numpy as np\n",
    "import matplotlib.pyplot as plt\n",
    "%matplotlib inline"
   ]
  },
  {
   "cell_type": "markdown",
   "metadata": {},
   "source": [
    "## 1. Modelo Gilbert"
   ]
  },
  {
   "cell_type": "markdown",
   "metadata": {},
   "source": [
    "## 1.1. Implementar en una función de python el algoritmo de generación de redes aleatorias de Gilbert"
   ]
  },
  {
   "cell_type": "code",
   "execution_count": 2,
   "metadata": {
    "collapsed": true
   },
   "outputs": [],
   "source": [
    "def redAleatoria(nodos, prob):\n",
    "    G = nx.Graph()\n",
    "    for i in range(1,nodos+1):\n",
    "        G.add_node(i)\n",
    "    for i in range(1,nodos):\n",
    "        for j in range(i+1,nodos+1):\n",
    "            if np.random.rand()<prob:\n",
    "                G.add_edge(i,j)\n",
    "    return G"
   ]
  },
  {
   "cell_type": "markdown",
   "metadata": {},
   "source": [
    "## 1.2. Implementar en una función de python el algoritmo de generación de redes aleatorias de Gilbert"
   ]
  },
  {
   "cell_type": "code",
   "execution_count": 4,
   "metadata": {},
   "outputs": [
    {
     "name": "stdout",
     "output_type": "stream",
     "text": [
      "Número de nodos: 100\n",
      "Número de enlaces: 17\n",
      "Grado medio: 0.34\n",
      "Grado Mínimo: 0\n",
      "Grado Máximo: 2\n",
      "Clustering medio: 0.0\n"
     ]
    }
   ],
   "source": [
    "G = redAleatoria(100, 0.005)\n",
    "# Nodos y Enlaces\n",
    "print(\"Número de nodos:\",G.number_of_nodes())\n",
    "print(\"Número de enlaces:\",G.number_of_edges())\n",
    "#Grado medio, min y max\n",
    "suma=0\n",
    "minimo=99999\n",
    "maximo=0\n",
    "for i,j in G.degree():\n",
    "    suma = suma + j\n",
    "    if j > maximo:\n",
    "        maximo = j\n",
    "    if j < minimo:\n",
    "        minimo = j\n",
    "media = suma/G.number_of_nodes()\n",
    "print (\"Grado medio:\",media)\n",
    "print (\"Grado Mínimo:\", minimo)\n",
    "print (\"Grado Máximo:\", maximo)\n",
    "print(\"Clustering medio:\", nx.average_clustering(G))"
   ]
  },
  {
   "cell_type": "markdown",
   "metadata": {},
   "source": [
    "## 2. Distribución de grado"
   ]
  },
  {
   "cell_type": "markdown",
   "metadata": {},
   "source": [
    "### 2.1.Represente la distribución de grado de distintas realizaciones del modelo G(100,p)"
   ]
  },
  {
   "cell_type": "code",
   "execution_count": 7,
   "metadata": {},
   "outputs": [
    {
     "data": {
      "image/png": "[encoded data removed]",
      "text/plain": [
       "<matplotlib.figure.Figure at 0x9d670f0>"
      ]
     },
     "metadata": {},
     "output_type": "display_data"
    }
   ],
   "source": [
    "G=redAleatoria(100, 0.005)\n",
    "redAleatoria_degrees=[(G.degree(e)) for e in G.nodes]\n",
    "fig, ax = plt.subplots()\n",
    "\n",
    "n, bins, patches = ax.hist(redAleatoria_degrees, bins=max(redAleatoria_degrees))\n",
    "fig.tight_layout()\n",
    "plt.show()"
   ]
  },
  {
   "cell_type": "code",
   "execution_count": 8,
   "metadata": {},
   "outputs": [
    {
     "data": {
      "image/png": "[encoded data removed]",
      "text/plain": [
       "<matplotlib.figure.Figure at 0x8508b00>"
      ]
     },
     "metadata": {},
     "output_type": "display_data"
    }
   ],
   "source": [
    "G=redAleatoria(100, 0.05)\n",
    "redAleatoria_degrees=[(G.degree(e)) for e in G.nodes]\n",
    "fig, ax = plt.subplots()\n",
    "\n",
    "n, bins, patches = ax.hist(redAleatoria_degrees, bins=max(redAleatoria_degrees))\n",
    "fig.tight_layout()\n",
    "plt.show()"
   ]
  },
  {
   "cell_type": "code",
   "execution_count": 9,
   "metadata": {},
   "outputs": [
    {
     "data": {
      "image/png": "[encoded data removed]",
      "text/plain": [
       "<matplotlib.figure.Figure at 0x828c198>"
      ]
     },
     "metadata": {},
     "output_type": "display_data"
    }
   ],
   "source": [
    "G=redAleatoria(100, 0.5)\n",
    "redAleatoria_degrees=[(G.degree(e)) for e in G.nodes]\n",
    "fig, ax = plt.subplots()\n",
    "\n",
    "n, bins, patches = ax.hist(redAleatoria_degrees, bins=max(redAleatoria_degrees))\n",
    "fig.tight_layout()\n",
    "plt.show()"
   ]
  },
  {
   "cell_type": "markdown",
   "metadata": {},
   "source": [
    "## 3. Aparición del componente gigante"
   ]
  },
  {
   "cell_type": "code",
   "execution_count": 17,
   "metadata": {},
   "outputs": [
    {
     "data": {
      "text/plain": [
       "[0.123, 0.898, 1.842, 2.8234, 3.8168, 4.812]"
      ]
     },
     "execution_count": 17,
     "metadata": {},
     "output_type": "execute_result"
    }
   ],
   "source": [
    "# Valores entre 0 y ln(1000)\n",
    "valoresGradoMedio = np.linspace(1, 6, num=6)\n",
    "\n",
    "# Genero la red 5 veces\n",
    "generarRed = 5\n",
    "nodos = 1000\n",
    "acumuladorCompMax = 0\n",
    "\n",
    "compMayorNodos = []\n",
    "\n",
    "for gradoMedio in valoresGradoMedio:   \n",
    "    probabilidad = gradoMedio/nodos\n",
    "    componenteMax = 0\n",
    "    for generaciones in range(1,generarRed+1):\n",
    "        G = redAleatoria(nodos, probabilidad)\n",
    "        componenteMax = 0\n",
    "        for componente in [len(c) for c in nx.connected_components(G)]:\n",
    "            if componente > componenteMax:\n",
    "                componenteMax = componente\n",
    "        acumuladorCompMax = acumuladorCompMax + componenteMax\n",
    "        \n",
    "    compMayor = acumuladorCompMax/generarRed\n",
    "    compMayorNodos.append(compMayor/nodos)\n",
    "compMayorNodos"
   ]
  },
  {
   "cell_type": "code",
   "execution_count": 18,
   "metadata": {},
   "outputs": [
    {
     "data": {
      "text/plain": [
       "[<matplotlib.lines.Line2D at 0x5be4a20>]"
      ]
     },
     "execution_count": 18,
     "metadata": {},
     "output_type": "execute_result"
    },
    {
     "data": {
      "image/png": "[encoded data removed]",
      "text/plain": [
       "<matplotlib.figure.Figure at 0xb07c588>"
      ]
     },
     "metadata": {},
     "output_type": "display_data"
    }
   ],
   "source": [
    "plt.plot(compMayorNodos)"
   ]
  }
 ],
 "metadata": {
  "kernelspec": {
   "display_name": "Python 3",
   "language": "python",
   "name": "python3"
  },
  "language_info": {
   "codemirror_mode": {
    "name": "ipython",
    "version": 3
   },
   "file_extension": ".py",
   "mimetype": "text/x-python",
   "name": "python",
   "nbconvert_exporter": "python",
   "pygments_lexer": "ipython3",
   "version": "3.6.3"
  }
 },
 "nbformat": 4,
 "nbformat_minor": 2
}
