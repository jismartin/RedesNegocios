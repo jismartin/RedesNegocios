{
 "cells": [
  {
   "cell_type": "markdown",
   "metadata": {},
   "source": [
    "# TRABAJO DE ANÁLISIS DE REDES SOCIALES"
   ]
  },
  {
   "cell_type": "markdown",
   "metadata": {},
   "source": [
    "## Carolina Colina Zamorano"
   ]
  },
  {
   "cell_type": "markdown",
   "metadata": {},
   "source": [
    "## 1. Introducción"
   ]
  },
  {
   "cell_type": "markdown",
   "metadata": {},
   "source": [
    "#### El objetivo de esta práctica es aplicar el conocimiento sobre Análisis de Redes Complejas adquirido durante estas semanas del curso. Se persigue por encima de todo evaluar el grado de comprensión de las diferentes métricas estudiadas y su aplicación a un caso real, más que la ejecución sistemática de una batería indiscriminada de estadísticos de redes\n",
    "#### El estudio de la red se centra en la serie Juego de Tronos."
   ]
  },
  {
   "cell_type": "markdown",
   "metadata": {},
   "source": [
    "## 2 - Formalización de la red"
   ]
  },
  {
   "cell_type": "code",
   "execution_count": 84,
   "metadata": {
    "collapsed": true
   },
   "outputs": [],
   "source": [
    "import numpy as np\n",
    "import networkx as nx\n",
    "import warnings\n",
    "import matplotlib.pyplot as plt\n",
    "import scipy.stats as sci\n",
    "import random as rnd\n",
    "%matplotlib inline"
   ]
  },
  {
   "cell_type": "code",
   "execution_count": 85,
   "metadata": {
    "collapsed": true
   },
   "outputs": [],
   "source": [
    "G = nx.Graph()"
   ]
  },
  {
   "cell_type": "code",
   "execution_count": 98,
   "metadata": {},
   "outputs": [
    {
     "data": {
      "text/plain": [
       "NodeDataView({'Lord Petyr Baelish': None, 'Jon': None, 'Varys': None, 'Stannys': None, 'Renly': None, 'Robert': None, 'Margarey': None, 'Loras': None, 'Joanna': None, 'Tywin': None, 'Kevan': None, 'Dorna': None, 'Cersei': None, 'Ser Jaime': None, 'Tyrion': None, 'Lancel': None, 'Joffrey': None, 'Mircella': None, 'Tommen': None, 'Rickard': None, 'Benjen': None, 'Lianna': None, 'Eddard': None, 'Jon Snow': None, 'Robb': None, 'Sansa': None, 'Arya': None, 'Bran': None, 'Rickon': None, 'Hoster': None, 'Robin': None, 'Catelyn': None, 'Lysa': None, 'Theon': None, 'Asha': None, 'Maron': None, 'Rodrik': None, 'Aeris II': None, 'Rhaella': None, 'Elia': None, 'Rhaegar': None, 'Viserys': None, 'Daenerys': None, 'Rhaenys': None, 'Aegon': None, 'Rob': None, 'Balon': None, 'Lyanna': None, 'Margaery': None, 'Stannis': None}, data='True')"
      ]
     },
     "execution_count": 98,
     "metadata": {},
     "output_type": "execute_result"
    }
   ],
   "source": [
    "G.add_nodes_from([\n",
    "    (\"Lord Petyr Baelish\", {'casa':'Arryn'}) , \n",
    "    (\"Jon\", {'casa':'Arryn'}) , \n",
    "    (\"Varys\", {'casa':'Arryn'}) ,\n",
    "    (\"Stannis\", {'casa':'Baratheon'}) , \n",
    "    (\"Renly\", {'casa':'Baratheon'}) , \n",
    "    (\"Robert\", {'casa':'Baratheon'}) , \n",
    "    (\"Margarey\", {'casa':'Tyrell'}) ,\n",
    "    (\"Loras\", {'casa':'Tyrell'}) , \n",
    "    \n",
    "    (\"Joanna\", {'casa':'Lannister'}) , \n",
    "    (\"Tywin\", {'casa':'Lannister'}) , \n",
    "    (\"Kevan\", {'casa':'Lannister'}) , \n",
    "    (\"Dorna\", {'casa':'Lannister'}) , \n",
    "    (\"Cersei\", {'casa':'Lannister'}) , \n",
    "    (\"Ser Jaime\", {'casa':'Lannister'}) , \n",
    "    (\"Tyrion\", {'casa':'Lannister'}) , \n",
    "    (\"Lancel\", {'casa':'Lannister'}) , \n",
    "    (\"Joffrey\", {'casa':'Lannister'}) , \n",
    "    (\"Mircella\", {'casa':'Lannister'}) , \n",
    "    (\"Tommen\", {'casa':'Lannister'}) ,\n",
    "    \n",
    "    (\"Rickard\", {'casa':'Stark'}) , \n",
    "    (\"Benjen\", {'casa':'Stark'}) , \n",
    "    (\"Lianna\", {'casa':'Stark'}) , \n",
    "    (\"Eddard\", {'casa':'Stark'}) , \n",
    "    (\"Jon Snow\", {'casa':'Stark'}) , \n",
    "    (\"Robb\", {'casa':'Stark'}) , \n",
    "    (\"Sansa\", {'casa':'Stark'}) , \n",
    "    (\"Arya\", {'casa':'Stark'}) , \n",
    "    (\"Bran\", {'casa':'Stark'}) , \n",
    "    (\"Rickon\", {'casa':'Stark'}) , \n",
    "    \n",
    "    (\"Hoster\", {'casa':'Tully'}) , \n",
    "    (\"Robin\", {'casa':'Tully'}) , \n",
    "    (\"Catelyn\", {'casa':'Tully'}) , \n",
    "    (\"Lysa\", {'casa':'Tully'}) , \n",
    "    \n",
    "    (\"Theon\", {'casa':'Greyjoy'}) , \n",
    "    (\"Asha\", {'casa':'Greyjoy'}) , \n",
    "    (\"Maron\", {'casa':'Greyjoy'}) , \n",
    "    (\"Rodrik\", {'casa':'Greyjoy'}) , \n",
    "    \n",
    "    (\"Aeris II\", {'casa':'Targaryen'}) , \n",
    "    (\"Rhaella\", {'casa':'Targaryen'}) , \n",
    "    (\"Elia\", {'casa':'Targaryen'}) , \n",
    "    (\"Rhaegar\", {'casa':'Targaryen'}) , \n",
    "    (\"Viserys\", {'casa':'Targaryen'}) , \n",
    "    (\"Daenerys\", {'casa':'Targaryen'}) , \n",
    "    (\"Rhaenys\", {'casa':'Targaryen'}) , \n",
    "    (\"Aegon\", {'casa':'Targaryen'}) , \n",
    "])\n",
    "G.nodes(data='True')"
   ]
  },
  {
   "cell_type": "code",
   "execution_count": 99,
   "metadata": {
    "collapsed": true
   },
   "outputs": [],
   "source": [
    "G.add_edges_from([(\"Lord Petyr Baelish\", \"Eddard\"),(\"Lord Petyr Baelish\", \"Catelyn\")])\n",
    "G.add_edges_from([(\"Jon\", \"Lysa\"),(\"Jon\", \"Robin\")])\n",
    "G.add_edges_from([(\"Lysa\", \"Catelyn\")])\n",
    "G.add_edges_from([(\"Rickard\", \"Benjen\"),(\"Rickard\", \"Lianna\"),(\"Rickard\", \"Eddard\")])\n",
    "G.add_edges_from([(\"Eddard\", \"Rob\"),(\"Eddard\",\"Sansa\"),(\"Eddard\",\"Arya\"),(\"Eddard\",\"Bran\"),(\"Eddard\",\"Rickon\")])\n",
    "G.add_edges_from([(\"Robb\", \"Jon Snow\")])\n",
    "G.add_edges_from([(\"Balon\", \"Theon\"),(\"Balon\", \"Asha\"),(\"Balon\", \"Maron\"),(\"Balon\", \"Rodrik\")])\n",
    "G.add_edges_from([(\"Joanna\", \"Tywin\"),(\"Tywin\", \"Kevan\"),(\"Kevan\", \"Dorna\"),(\"Joanna\", \"Tyrion\"),(\"Joanna\", \"Cersei\"),(\"Joanna\", \"Ser Jaime\"),(\"Tywin\", \"Ser Jaime\"),(\"Tywin\", \"Tyrion\"),(\"Tywin\", \"Cersei\")])\n",
    "G.add_edges_from([(\"Cersei\", \"Joffrey\"),(\"Cersei\", \"Mircella\"),(\"Cersei\",\"Tommen\"),(\"Ser Jaime\", \"Joffrey\"),(\"Ser Jaime\", \"Mircella\"),(\"Ser Jaime\",\"Tommen\")])\n",
    "G.add_edges_from([(\"Kevan\", \"Lancel\"),(\"Dorna\", \"Lancel\")])\n",
    "G.add_edges_from([(\"Balon\", \"Theon\"),(\"Balon\", \"Asha\"),(\"Balon\", \"Maron\"),(\"Balon\", \"Rodrik\")])\n",
    "G.add_edges_from([(\"Aeris II\", \"Rhaegar\"),(\"Aeris II\", \"Daenerys\"),(\"Rhaella\", \"Rhaegar\"),(\"Rhaella\", \"Daenerys\")])\n",
    "G.add_edges_from([(\"Rhaegar\", \"Elia\"),(\"Elia\", \"Rhaegar\"),(\"Rhaegar\", \"Rhaenys\"),(\"Rhaegar\", \"Aegon\"),(\"Elia\", \"Rhaenys\"),(\"Elia\", \"Aegon\")])\n",
    "G.add_edges_from([(\"Lord Petyr Baelish\", \"Eddard\"),(\"Lord Petyr Baelish\", \"Catelyn\")])\n",
    "G.add_edges_from([(\"Robert\", \"Lyanna\"),(\"Robert\", \"Joffrey\")])\n",
    "G.add_edges_from([(\"Catelyn\", \"Sansa\"),(\"Catelyn\", \"Jon Snow\")])\n",
    "G.add_edges_from([(\"Jon Snow\", \"Robb\"),(\"Jon Snow\", \"Theon\")])\n",
    "G.add_edges_from([(\"Robb\", \"Theon\")])\n",
    "G.add_edges_from([(\"Eddard\", \"Sansa\"),(\"Sansa\", \"Joffrey\")])\n",
    "G.add_edges_from([(\"Bran\", \"Ser Jaime\")])\n",
    "G.add_edges_from([(\"Margaery\", \"Joffrey\"),(\"Margaery\", \"Tommen\")])\n",
    "G.add_edges_from([(\"Loras\", \"Renly\"), (\"Renly\", \"Margarey\")])\n",
    "G.add_edges_from([(\"Joffrey\", \"Maron\"),(\"Joffrey\", \"Rodrik\")])\n",
    "G.add_edges_from([(\"Robert\", \"Rhaegar\"),(\"Cersei\", \"Tyrion\")])\n",
    "G.add_edges_from([(\"Ser Jaime\", \"Aeris II\")])\n",
    "G.add_edges_from([(\"Stannis\", \"Renly\"),(\"Stannis\", \"Robert\")])"
   ]
  },
  {
   "cell_type": "code",
   "execution_count": 91,
   "metadata": {},
   "outputs": [
    {
     "data": {
      "text/plain": [
       "[('Ser Jaime', 0.14583333333333331),\n",
       " ('Joffrey', 0.14583333333333331),\n",
       " ('Eddard', 0.14583333333333331),\n",
       " ('Cersei', 0.125),\n",
       " ('Rhaegar', 0.125),\n",
       " ('Tywin', 0.10416666666666666),\n",
       " ('Joanna', 0.08333333333333333),\n",
       " ('Catelyn', 0.08333333333333333),\n",
       " ('Balon', 0.08333333333333333),\n",
       " ('Robert', 0.0625),\n",
       " ('Kevan', 0.0625),\n",
       " ('Tyrion', 0.0625),\n",
       " ('Tommen', 0.0625),\n",
       " ('Rickard', 0.0625),\n",
       " ('Jon Snow', 0.0625),\n",
       " ('Sansa', 0.0625),\n",
       " ('Theon', 0.0625),\n",
       " ('Aeris II', 0.0625),\n",
       " ('Elia', 0.0625),\n",
       " ('Lord Petyr Baelish', 0.041666666666666664),\n",
       " ('Jon', 0.041666666666666664),\n",
       " ('Renly', 0.041666666666666664),\n",
       " ('Dorna', 0.041666666666666664),\n",
       " ('Lancel', 0.041666666666666664),\n",
       " ('Mircella', 0.041666666666666664),\n",
       " ('Robb', 0.041666666666666664),\n",
       " ('Bran', 0.041666666666666664),\n",
       " ('Lysa', 0.041666666666666664),\n",
       " ('Maron', 0.041666666666666664),\n",
       " ('Rodrik', 0.041666666666666664),\n",
       " ('Rhaella', 0.041666666666666664),\n",
       " ('Daenerys', 0.041666666666666664),\n",
       " ('Rhaenys', 0.041666666666666664),\n",
       " ('Aegon', 0.041666666666666664),\n",
       " ('Margaery', 0.041666666666666664),\n",
       " ('Margarey', 0.020833333333333332),\n",
       " ('Loras', 0.020833333333333332),\n",
       " ('Benjen', 0.020833333333333332),\n",
       " ('Lianna', 0.020833333333333332),\n",
       " ('Arya', 0.020833333333333332),\n",
       " ('Rickon', 0.020833333333333332),\n",
       " ('Robin', 0.020833333333333332),\n",
       " ('Asha', 0.020833333333333332),\n",
       " ('Rob', 0.020833333333333332),\n",
       " ('Lyanna', 0.020833333333333332),\n",
       " ('Varys', 0.0),\n",
       " ('Stannys', 0.0),\n",
       " ('Hoster', 0.0),\n",
       " ('Viserys', 0.0)]"
      ]
     },
     "execution_count": 91,
     "metadata": {},
     "output_type": "execute_result"
    }
   ],
   "source": [
    "sorted(list(nx.degree_centrality(G).items()), key=lambda x:x[1], reverse=True)"
   ]
  },
  {
   "cell_type": "code",
   "execution_count": 118,
   "metadata": {},
   "outputs": [
    {
     "data": {
      "image/png": "[encoded data removed]",
      "text/plain": [
       "<matplotlib.figure.Figure at 0xbac9198>"
      ]
     },
     "metadata": {},
     "output_type": "display_data"
    }
   ],
   "source": [
    "nodoDegree=np.array([x for x in nx.centrality.degree_centrality(G).values()])\n",
    "pos=nx.fruchterman_reingold_layout(G,k=0.1)\n",
    "colores_dict={\n",
    "            'Arryn': 'blue',\n",
    "            'Baratheon': 'red',\n",
    "            'Lannister': 'yellow',\n",
    "            'Stark':'pink',\n",
    "            'Tyrell':'cyan',\n",
    "            'Greyjoy':'orange',\n",
    "            'Targaryen':'green',\n",
    "            \n",
    "        }\n",
    "colores=[]\n",
    "for a in nx.get_node_attributes(G,'organización').values():\n",
    "    if a:\n",
    "        colores.append(colores_dict.get(a))\n",
    "    else:\n",
    "        colores.append('black')\n",
    "with warnings.catch_warnings():\n",
    "    plt.figure(3,figsize=(15,15)) \n",
    "    warnings.simplefilter(\"ignore\")\n",
    "    nx.draw(G, pos, with_labels=True, node_color=colores, node_size=nodoDegree*5, alpha=0.5)\n"
   ]
  },
  {
   "cell_type": "markdown",
   "metadata": {},
   "source": [
    "## 3. Análisis de centralidad"
   ]
  },
  {
   "cell_type": "markdown",
   "metadata": {},
   "source": [
    "### 3.1 Degree Centrality"
   ]
  },
  {
   "cell_type": "code",
   "execution_count": 101,
   "metadata": {},
   "outputs": [
    {
     "name": "stdout",
     "output_type": "stream",
     "text": [
      "\n",
      "Degree centrality:\n"
     ]
    },
    {
     "data": {
      "text/plain": [
       "[('Ser Jaime', 0.14285714285714285),\n",
       " ('Joffrey', 0.14285714285714285),\n",
       " ('Eddard', 0.14285714285714285),\n",
       " ('Cersei', 0.12244897959183673),\n",
       " ('Rhaegar', 0.12244897959183673),\n",
       " ('Tywin', 0.1020408163265306),\n",
       " ('Robert', 0.08163265306122448),\n",
       " ('Joanna', 0.08163265306122448),\n",
       " ('Catelyn', 0.08163265306122448),\n",
       " ('Balon', 0.08163265306122448),\n",
       " ('Renly', 0.061224489795918366),\n",
       " ('Kevan', 0.061224489795918366),\n",
       " ('Tyrion', 0.061224489795918366),\n",
       " ('Tommen', 0.061224489795918366),\n",
       " ('Rickard', 0.061224489795918366),\n",
       " ('Jon Snow', 0.061224489795918366),\n",
       " ('Sansa', 0.061224489795918366),\n",
       " ('Theon', 0.061224489795918366),\n",
       " ('Aeris II', 0.061224489795918366),\n",
       " ('Elia', 0.061224489795918366),\n",
       " ('Lord Petyr Baelish', 0.04081632653061224),\n",
       " ('Jon', 0.04081632653061224),\n",
       " ('Dorna', 0.04081632653061224),\n",
       " ('Lancel', 0.04081632653061224),\n",
       " ('Mircella', 0.04081632653061224),\n",
       " ('Robb', 0.04081632653061224),\n",
       " ('Bran', 0.04081632653061224),\n",
       " ('Lysa', 0.04081632653061224),\n",
       " ('Maron', 0.04081632653061224),\n",
       " ('Rodrik', 0.04081632653061224),\n",
       " ('Rhaella', 0.04081632653061224),\n",
       " ('Daenerys', 0.04081632653061224),\n",
       " ('Rhaenys', 0.04081632653061224),\n",
       " ('Aegon', 0.04081632653061224),\n",
       " ('Margaery', 0.04081632653061224),\n",
       " ('Stannis', 0.04081632653061224),\n",
       " ('Margarey', 0.02040816326530612),\n",
       " ('Loras', 0.02040816326530612),\n",
       " ('Benjen', 0.02040816326530612),\n",
       " ('Lianna', 0.02040816326530612),\n",
       " ('Arya', 0.02040816326530612),\n",
       " ('Rickon', 0.02040816326530612),\n",
       " ('Robin', 0.02040816326530612),\n",
       " ('Asha', 0.02040816326530612),\n",
       " ('Rob', 0.02040816326530612),\n",
       " ('Lyanna', 0.02040816326530612),\n",
       " ('Varys', 0.0),\n",
       " ('Stannys', 0.0),\n",
       " ('Hoster', 0.0),\n",
       " ('Viserys', 0.0)]"
      ]
     },
     "execution_count": 101,
     "metadata": {},
     "output_type": "execute_result"
    }
   ],
   "source": [
    "print(\"\")\n",
    "print(\"Degree centrality:\")\n",
    "sorted(list(nx.degree_centrality(G).items()), key=lambda x:x[1], reverse=True)"
   ]
  },
  {
   "cell_type": "markdown",
   "metadata": {},
   "source": [
    "#### Esta medida se centra en el número de enlaces con otros nodos. Los nodos que están al principio de la lista, son los que más relaciones tienen. Vemos qué a los nodos de mayor grado les llegan más enlaces."
   ]
  },
  {
   "cell_type": "markdown",
   "metadata": {},
   "source": [
    "### 3.2 Eigenvector Centrality"
   ]
  },
  {
   "cell_type": "code",
   "execution_count": 102,
   "metadata": {},
   "outputs": [
    {
     "name": "stdout",
     "output_type": "stream",
     "text": [
      "\n",
      "Eigenvector centrality:\n"
     ]
    },
    {
     "data": {
      "text/plain": [
       "[('Cersei', 0.4169008376158298),\n",
       " ('Ser Jaime', 0.41013738322998544),\n",
       " ('Tywin', 0.37153942994999861),\n",
       " ('Joanna', 0.35140273788721155),\n",
       " ('Joffrey', 0.32311129811988359),\n",
       " ('Tyrion', 0.27231374981891115),\n",
       " ('Tommen', 0.22910098886335378),\n",
       " ('Mircella', 0.19758324443336095),\n",
       " ('Margaery', 0.13192606161119033),\n",
       " ('Aeris II', 0.12744216890766702),\n",
       " ('Bran', 0.11656130947055487),\n",
       " ('Robert', 0.11077674749505288),\n",
       " ('Sansa', 0.10470964418823289),\n",
       " ('Kevan', 0.10442427436809845),\n",
       " ('Rodrik', 0.08900961872940219),\n",
       " ('Maron', 0.089009618729402148),\n",
       " ('Rhaegar', 0.085822072590026069),\n",
       " ('Eddard', 0.077761569337823605),\n",
       " ('Balon', 0.049462585476592602),\n",
       " ('Daenerys', 0.037484282976761756),\n",
       " ('Catelyn', 0.037417727897111487),\n",
       " ('Elia', 0.034204411167893495),\n",
       " ('Lancel', 0.032778336339228137),\n",
       " ('Dorna', 0.032778336339228116),\n",
       " ('Rhaella', 0.029458456910519949),\n",
       " ('Rhaenys', 0.028674880411892235),\n",
       " ('Aegon', 0.028674880411892218),\n",
       " ('Stannis', 0.028287654143152124),\n",
       " ('Lord Petyr Baelish', 0.027516865201173812),\n",
       " ('Lyanna', 0.02646507576815876),\n",
       " ('Rickard', 0.020971513012887848),\n",
       " ('Rob', 0.018577597473407863),\n",
       " ('Arya', 0.018577597473407859),\n",
       " ('Rickon', 0.018577597473407835),\n",
       " ('Theon', 0.017202980226579487),\n",
       " ('Jon Snow', 0.014880305834194772),\n",
       " ('Asha', 0.01181683974234317),\n",
       " ('Lysa', 0.0095152262701905504),\n",
       " ('Robb', 0.0076648449759532744),\n",
       " ('Renly', 0.0076288957645641881),\n",
       " ('Benjen', 0.0050101911584269259),\n",
       " ('Lianna', 0.0050101911584268998),\n",
       " ('Jon', 0.0024108305821876445),\n",
       " ('Margarey', 0.0018225783749933298),\n",
       " ('Loras', 0.0018225783749933027),\n",
       " ('Robin', 0.00057595854242460719),\n",
       " ('Stannys', -8.0592342601773601e-20),\n",
       " ('Hoster', -8.640954445577015e-18),\n",
       " ('Viserys', -1.1710061977556281e-17),\n",
       " ('Varys', -1.2016472017469147e-17)]"
      ]
     },
     "execution_count": 102,
     "metadata": {},
     "output_type": "execute_result"
    }
   ],
   "source": [
    "print(\"\")\n",
    "print(\"Eigenvector centrality:\")\n",
    "sorted(list(nx.eigenvector_centrality_numpy(G).items()), key=lambda x:x[1], reverse=True)"
   ]
  },
  {
   "cell_type": "markdown",
   "metadata": {},
   "source": [
    "#### Eigenvector Centrality se basa en que la importancia de un nodo depende de la importancia de los nodos que le apuntan, es decir, un nodo es importante si los que le apuntan lo son."
   ]
  },
  {
   "cell_type": "markdown",
   "metadata": {},
   "source": [
    "### 3.3 Betweenness centrality"
   ]
  },
  {
   "cell_type": "code",
   "execution_count": 103,
   "metadata": {},
   "outputs": [
    {
     "name": "stdout",
     "output_type": "stream",
     "text": [
      "\n",
      "Betweenness centrality:\n"
     ]
    },
    {
     "data": {
      "text/plain": [
       "[('Joffrey', 0.4350907029478458),\n",
       " ('Robert', 0.2551303854875283),\n",
       " ('Sansa', 0.24950396825396826),\n",
       " ('Ser Jaime', 0.24019274376417227),\n",
       " ('Eddard', 0.23356009070294786),\n",
       " ('Catelyn', 0.16893424036281177),\n",
       " ('Rhaegar', 0.14499716553287983),\n",
       " ('Tywin', 0.11319444444444447),\n",
       " ('Stannis', 0.10714285714285714),\n",
       " ('Aeris II', 0.09095804988662132),\n",
       " ('Bran', 0.08985260770975058),\n",
       " ('Cersei', 0.08350340136054431),\n",
       " ('Balon', 0.07879818594104304),\n",
       " ('Renly', 0.07397959183673469),\n",
       " ('Rickard', 0.07397959183673469),\n",
       " ('Kevan', 0.07312925170068027),\n",
       " ('Lysa', 0.07312925170068027),\n",
       " ('Maron', 0.046839569160997706),\n",
       " ('Rodrik', 0.046839569160997706),\n",
       " ('Jon Snow', 0.038973922902494317),\n",
       " ('Jon', 0.03741496598639456),\n",
       " ('Theon', 0.029478458049886618),\n",
       " ('Lord Petyr Baelish', 0.023596938775510203),\n",
       " ('Daenerys', 0.006788548752834467),\n",
       " ('Joanna', 0.0060515873015873035),\n",
       " ('Tommen', 0.0057823129251700685),\n",
       " ('Margaery', 0.005385487528344674),\n",
       " ('Rhaella', 0.004251700680272108),\n",
       " ('Mircella', 0.0006802721088435374),\n",
       " ('Elia', 0.00042517006802721087),\n",
       " ('Varys', 0.0),\n",
       " ('Stannys', 0.0),\n",
       " ('Margarey', 0.0),\n",
       " ('Loras', 0.0),\n",
       " ('Dorna', 0.0),\n",
       " ('Tyrion', 0.0),\n",
       " ('Lancel', 0.0),\n",
       " ('Benjen', 0.0),\n",
       " ('Lianna', 0.0),\n",
       " ('Robb', 0.0),\n",
       " ('Arya', 0.0),\n",
       " ('Rickon', 0.0),\n",
       " ('Hoster', 0.0),\n",
       " ('Robin', 0.0),\n",
       " ('Asha', 0.0),\n",
       " ('Viserys', 0.0),\n",
       " ('Rhaenys', 0.0),\n",
       " ('Aegon', 0.0),\n",
       " ('Rob', 0.0),\n",
       " ('Lyanna', 0.0)]"
      ]
     },
     "execution_count": 103,
     "metadata": {},
     "output_type": "execute_result"
    }
   ],
   "source": [
    "print(\"\")\n",
    "print(\"Betweenness centrality:\")\n",
    "sorted(list(nx.betweenness_centrality(G).items()), key=lambda x:x[1], reverse=True)"
   ]
  },
  {
   "cell_type": "markdown",
   "metadata": {},
   "source": [
    "#### Los nodos con mayor Betweenness influyen más en la transmisión de información y hacen de enlace entre grupos aislados."
   ]
  },
  {
   "cell_type": "markdown",
   "metadata": {},
   "source": [
    "## 4. Características macroscópicas de la red"
   ]
  },
  {
   "cell_type": "markdown",
   "metadata": {},
   "source": [
    "### 4.1 Componentes de la red"
   ]
  },
  {
   "cell_type": "code",
   "execution_count": 104,
   "metadata": {},
   "outputs": [
    {
     "data": {
      "text/plain": [
       "5"
      ]
     },
     "execution_count": 104,
     "metadata": {},
     "output_type": "execute_result"
    }
   ],
   "source": [
    "nx.number_connected_components(G)"
   ]
  },
  {
   "cell_type": "markdown",
   "metadata": {},
   "source": [
    "### 4.2. Small world"
   ]
  },
  {
   "cell_type": "code",
   "execution_count": 105,
   "metadata": {},
   "outputs": [
    {
     "ename": "NetworkXError",
     "evalue": "Graph is not connected.",
     "output_type": "error",
     "traceback": [
      "\u001b[1;31m---------------------------------------------------------------------------\u001b[0m",
      "\u001b[1;31mNetworkXError\u001b[0m                             Traceback (most recent call last)",
      "\u001b[1;32m<ipython-input-105-5ad4f94667e2>\u001b[0m in \u001b[0;36m<module>\u001b[1;34m()\u001b[0m\n\u001b[1;32m----> 1\u001b[1;33m \u001b[0mnx\u001b[0m\u001b[1;33m.\u001b[0m\u001b[0maverage_shortest_path_length\u001b[0m\u001b[1;33m(\u001b[0m\u001b[0mG\u001b[0m\u001b[1;33m)\u001b[0m\u001b[1;33m\u001b[0m\u001b[0m\n\u001b[0m",
      "\u001b[1;32m~\\Anaconda3\\lib\\site-packages\\networkx\\algorithms\\shortest_paths\\generic.py\u001b[0m in \u001b[0;36maverage_shortest_path_length\u001b[1;34m(G, weight)\u001b[0m\n\u001b[0;32m    322\u001b[0m         \u001b[1;32mraise\u001b[0m \u001b[0mnx\u001b[0m\u001b[1;33m.\u001b[0m\u001b[0mNetworkXError\u001b[0m\u001b[1;33m(\u001b[0m\u001b[1;34m\"Graph is not weakly connected.\"\u001b[0m\u001b[1;33m)\u001b[0m\u001b[1;33m\u001b[0m\u001b[0m\n\u001b[0;32m    323\u001b[0m     \u001b[1;32mif\u001b[0m \u001b[1;32mnot\u001b[0m \u001b[0mG\u001b[0m\u001b[1;33m.\u001b[0m\u001b[0mis_directed\u001b[0m\u001b[1;33m(\u001b[0m\u001b[1;33m)\u001b[0m \u001b[1;32mand\u001b[0m \u001b[1;32mnot\u001b[0m \u001b[0mnx\u001b[0m\u001b[1;33m.\u001b[0m\u001b[0mis_connected\u001b[0m\u001b[1;33m(\u001b[0m\u001b[0mG\u001b[0m\u001b[1;33m)\u001b[0m\u001b[1;33m:\u001b[0m\u001b[1;33m\u001b[0m\u001b[0m\n\u001b[1;32m--> 324\u001b[1;33m         \u001b[1;32mraise\u001b[0m \u001b[0mnx\u001b[0m\u001b[1;33m.\u001b[0m\u001b[0mNetworkXError\u001b[0m\u001b[1;33m(\u001b[0m\u001b[1;34m\"Graph is not connected.\"\u001b[0m\u001b[1;33m)\u001b[0m\u001b[1;33m\u001b[0m\u001b[0m\n\u001b[0m\u001b[0;32m    325\u001b[0m     \u001b[1;31m# Compute all-pairs shortest paths.\u001b[0m\u001b[1;33m\u001b[0m\u001b[1;33m\u001b[0m\u001b[0m\n\u001b[0;32m    326\u001b[0m     \u001b[1;32mif\u001b[0m \u001b[0mweight\u001b[0m \u001b[1;32mis\u001b[0m \u001b[1;32mNone\u001b[0m\u001b[1;33m:\u001b[0m\u001b[1;33m\u001b[0m\u001b[0m\n",
      "\u001b[1;31mNetworkXError\u001b[0m: Graph is not connected."
     ]
    }
   ],
   "source": [
    "nx.average_shortest_path_length(G)"
   ]
  },
  {
   "cell_type": "markdown",
   "metadata": {},
   "source": [
    "#### No cumple la propiedad Small world porque no están todos los nodos conectados."
   ]
  },
  {
   "cell_type": "markdown",
   "metadata": {},
   "source": [
    "### 4.3. Clustering de la red"
   ]
  },
  {
   "cell_type": "code",
   "execution_count": 106,
   "metadata": {},
   "outputs": [
    {
     "data": {
      "text/plain": [
       "0.18228571428571427"
      ]
     },
     "execution_count": 106,
     "metadata": {},
     "output_type": "execute_result"
    }
   ],
   "source": [
    "np.average(list(nx.clustering(G).values()))"
   ]
  },
  {
   "cell_type": "markdown",
   "metadata": {},
   "source": [
    "#### Encontramos en la red un coeficiente de clustering bastante bajo, lo cual quiere decir que no es una red muy robusta"
   ]
  },
  {
   "cell_type": "markdown",
   "metadata": {},
   "source": [
    "### 4.4. Triángulos de la red"
   ]
  },
  {
   "cell_type": "code",
   "execution_count": 107,
   "metadata": {},
   "outputs": [
    {
     "data": {
      "text/plain": [
       "[('Joanna', 4), ('Tywin', 4), ('Cersei', 3), ('Tyrion', 3), ('Elia', 2)]"
      ]
     },
     "execution_count": 107,
     "metadata": {},
     "output_type": "execute_result"
    }
   ],
   "source": [
    "sorted(list(nx.triangles(G).items()), key=lambda x:x[1], reverse=True)[0:5]"
   ]
  },
  {
   "cell_type": "markdown",
   "metadata": {},
   "source": [
    "## 5. Estructura de la red"
   ]
  },
  {
   "cell_type": "markdown",
   "metadata": {},
   "source": [
    "### 5.1. Transitividad"
   ]
  },
  {
   "cell_type": "code",
   "execution_count": 108,
   "metadata": {},
   "outputs": [
    {
     "data": {
      "text/plain": [
       "0.15606936416184972"
      ]
     },
     "execution_count": 108,
     "metadata": {},
     "output_type": "execute_result"
    }
   ],
   "source": [
    "nx.transitivity(G)"
   ]
  },
  {
   "cell_type": "markdown",
   "metadata": {},
   "source": [
    "#### Ttiene una transitividad bastante baja, lo que significa que los nodos no están todos conctados y puede haber clustering"
   ]
  },
  {
   "cell_type": "markdown",
   "metadata": {},
   "source": [
    "### 5.2.  Relación del grado de los nodos con respecto a los enlaces entre los nodos"
   ]
  },
  {
   "cell_type": "code",
   "execution_count": 109,
   "metadata": {},
   "outputs": [
    {
     "data": {
      "text/plain": [
       "-0.18703471901969884"
      ]
     },
     "execution_count": 109,
     "metadata": {},
     "output_type": "execute_result"
    }
   ],
   "source": [
    "nx.degree_assortativity_coefficient(G)"
   ]
  },
  {
   "cell_type": "code",
   "execution_count": 110,
   "metadata": {},
   "outputs": [
    {
     "data": {
      "text/plain": [
       "-0.18703471901969826"
      ]
     },
     "execution_count": 110,
     "metadata": {},
     "output_type": "execute_result"
    }
   ],
   "source": [
    "nx.degree_pearson_correlation_coefficient(G)"
   ]
  },
  {
   "cell_type": "markdown",
   "metadata": {},
   "source": [
    "#### El valor que encontramos es pequeño, con los que no habrá una relacción entre los enlaces y el grado de los nodos"
   ]
  },
  {
   "cell_type": "markdown",
   "metadata": {},
   "source": [
    "### 5.3. Estadísticas de la red"
   ]
  },
  {
   "cell_type": "code",
   "execution_count": 111,
   "metadata": {},
   "outputs": [
    {
     "name": "stdout",
     "output_type": "stream",
     "text": [
      "Número de nodos: 50\n",
      "Número de enlaces: 63\n",
      "Grado Máximo: 7\n",
      "Grado Mínimmo: 0\n",
      "Grado Medio: 2.52\n"
     ]
    }
   ],
   "source": [
    "# Número de nodos:\n",
    "print(\"Número de nodos:\",G.number_of_nodes())\n",
    "\n",
    "# Número de enlaces:\n",
    "print(\"Número de enlaces:\",G.number_of_edges())\n",
    "\n",
    "# Grado medio, mínimo y máximo:\n",
    "suma = 0\n",
    "minimo = 999\n",
    "maximo = 0\n",
    "for i,j in G.degree():\n",
    "    suma = suma + j\n",
    "    if j > maximo:\n",
    "        maximo = j\n",
    "    if j < minimo:\n",
    "        minimo = j\n",
    "medio = suma/G.number_of_nodes()\n",
    "\n",
    "print (\"Grado Máximo:\",maximo)\n",
    "print (\"Grado Mínimmo:\",minimo)\n",
    "print (\"Grado Medio:\",medio)"
   ]
  },
  {
   "cell_type": "markdown",
   "metadata": {},
   "source": [
    "### 5.3 - Grupos de vértices"
   ]
  },
  {
   "cell_type": "code",
   "execution_count": 112,
   "metadata": {},
   "outputs": [
    {
     "data": {
      "text/plain": [
       "[['Kevan', 'Tywin'],\n",
       " ['Kevan', 'Lancel', 'Dorna'],\n",
       " ['Rodrik', 'Balon'],\n",
       " ['Rodrik', 'Joffrey'],\n",
       " ['Renly', 'Margarey'],\n",
       " ['Renly', 'Loras'],\n",
       " ['Renly', 'Stannis'],\n",
       " ['Theon', 'Balon'],\n",
       " ['Theon', 'Robb', 'Jon Snow'],\n",
       " ['Ser Jaime', 'Joffrey'],\n",
       " ['Ser Jaime', 'Mircella'],\n",
       " ['Ser Jaime', 'Joanna', 'Tywin'],\n",
       " ['Ser Jaime', 'Aeris II'],\n",
       " ['Ser Jaime', 'Tommen'],\n",
       " ['Ser Jaime', 'Bran'],\n",
       " ['Lysa', 'Catelyn'],\n",
       " ['Lysa', 'Jon'],\n",
       " ['Stannys'],\n",
       " ['Sansa', 'Joffrey'],\n",
       " ['Sansa', 'Eddard'],\n",
       " ['Sansa', 'Catelyn'],\n",
       " ['Margaery', 'Joffrey'],\n",
       " ['Margaery', 'Tommen'],\n",
       " ['Daenerys', 'Rhaella'],\n",
       " ['Daenerys', 'Aeris II'],\n",
       " ['Cersei', 'Joffrey'],\n",
       " ['Cersei', 'Tommen'],\n",
       " ['Cersei', 'Mircella'],\n",
       " ['Cersei', 'Tyrion', 'Tywin', 'Joanna'],\n",
       " ['Hoster'],\n",
       " ['Rhaegar', 'Robert'],\n",
       " ['Rhaegar', 'Elia', 'Rhaenys'],\n",
       " ['Rhaegar', 'Elia', 'Aegon'],\n",
       " ['Rhaegar', 'Rhaella'],\n",
       " ['Rhaegar', 'Aeris II'],\n",
       " ['Rickard', 'Lianna'],\n",
       " ['Rickard', 'Eddard'],\n",
       " ['Rickard', 'Benjen'],\n",
       " ['Jon', 'Robin'],\n",
       " ['Robert', 'Joffrey'],\n",
       " ['Robert', 'Lyanna'],\n",
       " ['Robert', 'Stannis'],\n",
       " ['Balon', 'Maron'],\n",
       " ['Balon', 'Asha'],\n",
       " ['Catelyn', 'Lord Petyr Baelish'],\n",
       " ['Catelyn', 'Jon Snow'],\n",
       " ['Maron', 'Joffrey'],\n",
       " ['Varys'],\n",
       " ['Rickon', 'Eddard'],\n",
       " ['Arya', 'Eddard'],\n",
       " ['Eddard', 'Rob'],\n",
       " ['Eddard', 'Lord Petyr Baelish'],\n",
       " ['Eddard', 'Bran'],\n",
       " ['Viserys']]"
      ]
     },
     "execution_count": 112,
     "metadata": {},
     "output_type": "execute_result"
    }
   ],
   "source": [
    "list(nx.clique.find_cliques(G))"
   ]
  }
 ],
 "metadata": {
  "kernelspec": {
   "display_name": "Python 3",
   "language": "python",
   "name": "python3"
  },
  "language_info": {
   "codemirror_mode": {
    "name": "ipython",
    "version": 3
   },
   "file_extension": ".py",
   "mimetype": "text/x-python",
   "name": "python",
   "nbconvert_exporter": "python",
   "pygments_lexer": "ipython3",
   "version": "3.6.3"
  }
 },
 "nbformat": 4,
 "nbformat_minor": 2
}
